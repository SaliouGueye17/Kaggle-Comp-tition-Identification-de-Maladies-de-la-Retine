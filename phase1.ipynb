{
  "cells": [
    {
      "cell_type": "code",
      "execution_count": 1,
      "id": "8afb51d5-549f-4bb4-aa31-5e3e336a14a5",
      "metadata": {
        "id": "8afb51d5-549f-4bb4-aa31-5e3e336a14a5"
      },
      "outputs": [],
      "source": [
        "import numpy as np\n",
        "import pickle\n",
        "import matplotlib.pyplot as plt"
      ]
    },
    {
      "cell_type": "code",
      "execution_count": 2,
      "id": "f5d161e3-9864-4867-abb1-dd6a5321af97",
      "metadata": {
        "id": "f5d161e3-9864-4867-abb1-dd6a5321af97"
      },
      "outputs": [],
      "source": [
        "# Chargement et inspection des données\n",
        "def load_data(train_path, test_path):\n",
        "    # Charger les données d'entraînement\n",
        "    with open(train_path, 'rb') as f:\n",
        "        train_data = pickle.load(f)\n",
        "    #print(\"Training data keys:\", train_data.keys())  # Vérification des clés\n",
        "\n",
        "    # Charger les données de test\n",
        "    with open(test_path, 'rb') as f:\n",
        "        test_data = pickle.load(f)\n",
        "    #print(\"Test data keys:\", test_data.keys())  # Vérification des clés\n",
        "\n",
        "    # Identifier les clés correctes\n",
        "    X_train = train_data.get('images')\n",
        "    y_train = train_data.get('labels')\n",
        "    X_test = test_data.get('images')\n",
        "\n",
        "    if X_train is None or y_train is None or X_test is None:\n",
        "        raise ValueError(\"Les données n'ont pas les bonnes clés. Vérifiez votre fichier pickle.\")\n",
        "\n",
        "    # Convertir en tableaux NumPy\n",
        "    X_train = np.array(X_train)\n",
        "    y_train = np.array(y_train)\n",
        "    X_test = np.array(X_test)\n",
        "\n",
        "    return X_train, y_train, X_test"
      ]
    },
    {
      "cell_type": "code",
      "execution_count": 3,
      "id": "9798be0c-2ea1-4b50-b2e6-b926cade3334",
      "metadata": {
        "id": "9798be0c-2ea1-4b50-b2e6-b926cade3334"
      },
      "outputs": [],
      "source": [
        "# Charger les données\n",
        "train_path = 'train_data.pkl'\n",
        "test_path = 'test_data.pkl'\n",
        "X_train, y_train, X_test = load_data(train_path, test_path)"
      ]
    },
    {
      "cell_type": "code",
      "execution_count": 4,
      "id": "bbff3a64-5d6c-4f1f-8d13-4dead9fcf820",
      "metadata": {
        "colab": {
          "base_uri": "https://localhost:8080/"
        },
        "id": "bbff3a64-5d6c-4f1f-8d13-4dead9fcf820",
        "outputId": "715c3aa5-9993-441a-a89d-6e64598752cf"
      },
      "outputs": [
        {
          "output_type": "stream",
          "name": "stdout",
          "text": [
            "Shape of X_train is:(97477, 28, 28)\n",
            "Shape of y_train is:(97477,)\n",
            "Shape of X_test is:(1000, 28, 28)\n"
          ]
        }
      ],
      "source": [
        "print(f\"Shape of X_train is:{X_train.shape}\")\n",
        "print(f\"Shape of y_train is:{y_train.shape}\")\n",
        "print(f\"Shape of X_test is:{X_test.shape}\")"
      ]
    },
    {
      "cell_type": "code",
      "execution_count": 5,
      "id": "4eb966d5-f674-4143-8741-c2417bbc3940",
      "metadata": {
        "colab": {
          "base_uri": "https://localhost:8080/"
        },
        "id": "4eb966d5-f674-4143-8741-c2417bbc3940",
        "outputId": "7389bcbc-b692-4f6e-d7f7-d55d42573fb4"
      },
      "outputs": [
        {
          "output_type": "stream",
          "name": "stdout",
          "text": [
            "Shape of X_train is:(77982, 28, 28)\n",
            "Shape of X_val is:(19495, 28, 28)\n",
            "Shape of y_train is:(77982,)\n",
            "Shape of y_val is:(19495,)\n"
          ]
        }
      ],
      "source": [
        "# Séparation des données\n",
        "np.random.seed(42) # pour assurer la reproductibilité\n",
        "\n",
        "# Mélanger les indices\n",
        "indices = np.arange(X_train.shape[0])\n",
        "np.random.shuffle(indices)\n",
        "\n",
        "# Calculer la taille de l'ensemble de test\n",
        "test_size = 0.2 # 20% des données\n",
        "test_size = int(X_train.shape[0] * test_size)\n",
        "\n",
        "# Diviser les indices en indices d'entraînement et de validation\n",
        "train_indices = indices[test_size:]\n",
        "val_indices = indices[:test_size]\n",
        "\n",
        "# Extraire les échantillons pour l'entraînement et la validation\n",
        "X_train, X_val = X_train[train_indices], X_train[val_indices]\n",
        "y_train, y_val = y_train[train_indices], y_train[val_indices]\n",
        "\n",
        "print(f\"Shape of X_train is:{X_train.shape}\")\n",
        "print(f\"Shape of X_val is:{X_val.shape}\")\n",
        "print(f\"Shape of y_train is:{y_train.shape}\")\n",
        "print(f\"Shape of y_val is:{y_val.shape}\")"
      ]
    },
    {
      "cell_type": "code",
      "execution_count": 6,
      "id": "JY_HgnNIdL8m",
      "metadata": {
        "colab": {
          "base_uri": "https://localhost:8080/",
          "height": 125
        },
        "id": "JY_HgnNIdL8m",
        "outputId": "855c9737-c365-46c1-b7e7-f1af1a167572"
      },
      "outputs": [
        {
          "output_type": "display_data",
          "data": {
            "text/plain": [
              "<Figure size 1000x500 with 10 Axes>"
            ],
            "image/png": "[encoded data removed]"
          },
          "metadata": {}
        }
      ],
      "source": [
        "import matplotlib.pyplot as plt\n",
        "import numpy as np\n",
        "\n",
        "def visualize_samples(images, labels, num_samples=4):\n",
        "    \"\"\"\n",
        "    Affiche des exemples d'images avec leurs étiquettes.\n",
        "\n",
        "    Args:\n",
        "        images: Un tableau NumPy contenant les images.\n",
        "        labels: Un tableau NumPy contenant les étiquettes.\n",
        "        num_samples: Le nombre d'échantillons à afficher.\n",
        "    \"\"\"\n",
        "    # Vérification des entrées\n",
        "    num_samples = min(num_samples, len(images))\n",
        "\n",
        "    # Création de la figure\n",
        "    fig, axes = plt.subplots(1, num_samples, figsize=(10, 5))\n",
        "\n",
        "    # Affichage des échantillons\n",
        "    for i in range(num_samples):\n",
        "        # Sélectionner un échantillon aléatoire\n",
        "        index = np.random.randint(0, len(images))\n",
        "\n",
        "        # Afficher l'image\n",
        "        axes[i].imshow(images[index], cmap='gray')  # ou cmap='viridis', etc.\n",
        "        axes[i].set_title(f\"Label: {labels[index]}\")\n",
        "        axes[i].axis('off')  # Masquer les axes\n",
        "\n",
        "    plt.show()\n",
        "# Visualiser des exemples d'entraînement\n",
        "visualize_samples(X_train, y_train, num_samples=10)"
      ]
    },
    {
      "cell_type": "code",
      "execution_count": 7,
      "id": "5013b0a9-afa0-47fc-b803-a4ce451d7062",
      "metadata": {
        "colab": {
          "base_uri": "https://localhost:8080/"
        },
        "id": "5013b0a9-afa0-47fc-b803-a4ce451d7062",
        "outputId": "cffa4e32-4437-44aa-a495-4d4160829f10",
        "scrolled": true
      },
      "outputs": [
        {
          "output_type": "stream",
          "name": "stdout",
          "text": [
            "Distribution des classes: {0: 26830, 1: 8168, 2: 6213, 3: 36771}\n"
          ]
        }
      ],
      "source": [
        "# Vérifier la distribution des classes\n",
        "unique, counts = np.unique(y_train, return_counts=True)\n",
        "print(\"Distribution des classes:\", dict(zip(unique, counts)))"
      ]
    },
    {
      "cell_type": "code",
      "execution_count": 8,
      "id": "oeJJJ9svqxVS",
      "metadata": {
        "colab": {
          "base_uri": "https://localhost:8080/"
        },
        "id": "oeJJJ9svqxVS",
        "outputId": "74f58cd6-e304-4f8b-8e0d-059c08bbe1c5"
      },
      "outputs": [
        {
          "output_type": "stream",
          "name": "stdout",
          "text": [
            "Nouvelle distribution des labels : {0: 26830, 1: 25000, 2: 25000, 3: 36771}\n"
          ]
        }
      ],
      "source": [
        "from scipy.ndimage import rotate, shift\n",
        "\n",
        "# Fonction pour effectuer des transformations manuelles\n",
        "def random_rotate(image, angle_range=30):\n",
        "    angle = np.random.uniform(-angle_range, angle_range)\n",
        "    return rotate(image, angle, reshape=False, mode='nearest')\n",
        "\n",
        "def random_flip(image):\n",
        "    if np.random.rand() > 0.5:\n",
        "        return np.fliplr(image)  # Inversion horizontale\n",
        "    return image\n",
        "\n",
        "def random_shift(image, max_shift=2):\n",
        "    shift_x = np.random.uniform(-max_shift, max_shift)\n",
        "    shift_y = np.random.uniform(-max_shift, max_shift)\n",
        "    return shift(image, shift=(shift_x, shift_y), mode='nearest')\n",
        "\n",
        "# Fonction pour augmenter les données\n",
        "def augment_data(X_class, y_class, target_count):\n",
        "    augmented_X = []\n",
        "    augmented_y = []\n",
        "    current_count = len(X_class)\n",
        "\n",
        "    while len(augmented_X) + current_count < target_count:\n",
        "        for i in range(current_count):\n",
        "            image = X_class[i]\n",
        "\n",
        "            # Appliquer des transformations aléatoires\n",
        "            augmented_image = random_rotate(image)\n",
        "            augmented_image = random_flip(augmented_image)\n",
        "            augmented_image = random_shift(augmented_image)\n",
        "\n",
        "            # Ajouter l'image augmentée\n",
        "            augmented_X.append(augmented_image)\n",
        "            augmented_y.append(y_class[i])\n",
        "\n",
        "            if len(augmented_X) + current_count >= target_count:\n",
        "                break\n",
        "\n",
        "    return np.array(augmented_X), np.array(augmented_y)\n",
        "\n",
        "# Filtrer les indices des classes 1 et 2\n",
        "indices_class_1 = np.where(y_train == 1)[0]\n",
        "indices_class_2 = np.where(y_train == 2)[0]\n",
        "\n",
        "# Extraire les données des classes 1 et 2\n",
        "X_class_1 = X_train[indices_class_1]\n",
        "X_class_2 = X_train[indices_class_2]\n",
        "y_class_1 = y_train[indices_class_1]\n",
        "y_class_2 = y_train[indices_class_2]\n",
        "\n",
        "# Déterminer combien d'échantillons ajouter\n",
        "target_count = 25000\n",
        "\n",
        "# Augmenter les données pour les classes 1 et 2\n",
        "X_class_1_aug, y_class_1_aug = augment_data(X_class_1, y_class_1, target_count)\n",
        "X_class_2_aug, y_class_2_aug = augment_data(X_class_2, y_class_2, target_count)\n",
        "\n",
        "# Combiner les données d'origine et augmentées\n",
        "X_train_augmented = np.concatenate((X_train, X_class_1_aug, X_class_2_aug), axis=0)\n",
        "y_train_augmented = np.concatenate((y_train, y_class_1_aug, y_class_2_aug), axis=0)\n",
        "\n",
        "# Mélanger les données après augmentation\n",
        "indices = np.random.permutation(len(X_train_augmented))  # Générer des indices aléatoires\n",
        "X_train_augmented = X_train_augmented[indices]\n",
        "y_train_augmented = y_train_augmented[indices]\n",
        "\n",
        "# Vérifier la nouvelle distribution des labels\n",
        "unique, counts = np.unique(y_train_augmented, return_counts=True)\n",
        "print(f\"Nouvelle distribution des labels : {dict(zip(unique, counts))}\")"
      ]
    },
    {
      "cell_type": "code",
      "execution_count": 9,
      "id": "_XmwDOersIFw",
      "metadata": {
        "id": "_XmwDOersIFw"
      },
      "outputs": [],
      "source": [
        "# Standardisation des données\n",
        "mean = X_train.mean(axis=0)\n",
        "std = X_train.std(axis=0)\n",
        "X_train_augmented = (X_train_augmented - mean) / std\n",
        "X_val = (X_val - mean) / std\n",
        "X_test = (X_test - mean) / std"
      ]
    },
    {
      "cell_type": "code",
      "execution_count": 10,
      "id": "OaQ0n7AVsmWX",
      "metadata": {
        "id": "OaQ0n7AVsmWX"
      },
      "outputs": [],
      "source": [
        "# Dimensions des données\n",
        "num_classes = 4  # Nombre de classes\n",
        "X_train_augmented = X_train_augmented.reshape(X_train_augmented.shape[0], -1)  # Aplatir les images à nouveau\n",
        "X_val = X_val.reshape(X_val.shape[0], -1)\n",
        "X_test = X_test.reshape(X_test.shape[0], -1)"
      ]
    },
    {
      "cell_type": "code",
      "execution_count": 11,
      "id": "m08TViosqxcY",
      "metadata": {
        "id": "m08TViosqxcY"
      },
      "outputs": [],
      "source": [
        "def truncated_svd(X, n_components):\n",
        "    \"\"\"\n",
        "    Réalise une réduction de dimension avec Truncated SVD sans centrer les données.\n",
        "\n",
        "    Arguments:\n",
        "    - X : ndarray, matrice d'entrée\n",
        "    - n_components : int, nombre de composantes principales\n",
        "\n",
        "    Retourne:\n",
        "    - X_reduced : ndarray, matrice réduite\n",
        "    - Vt_reduced : ndarray, composantes principales\n",
        "    \"\"\"\n",
        "    # Vérifiez si X est une matrice valide\n",
        "    X = np.asarray(X)\n",
        "\n",
        "    # Calcul de la décomposition SVD\n",
        "    U, S, Vt = np.linalg.svd(X, full_matrices=False)\n",
        "\n",
        "    # Réduction à n_components\n",
        "    U_reduced = U[:, :n_components]  # (n_samples, n_components)\n",
        "    S_reduced = S[:n_components]     # (n_components,)\n",
        "    Vt_reduced = Vt[:n_components, :]  # (n_components, n_features)\n",
        "\n",
        "    # Calcul de la matrice réduite\n",
        "    X_reduced = U_reduced * S_reduced  # Broadcasting (n_samples, n_components)\n",
        "\n",
        "    return X_reduced, Vt_reduced"
      ]
    },
    {
      "cell_type": "code",
      "execution_count": 12,
      "id": "wD0RbwxBqxnn",
      "metadata": {
        "id": "wD0RbwxBqxnn"
      },
      "outputs": [],
      "source": [
        "n_components = 100\n",
        "\n",
        "# Réduction de dimension avec la fonction Truncated SVD sur X_train\n",
        "X_train_reduced, Vt_train = truncated_svd(X_train_augmented, n_components)\n",
        "\n",
        "# Transformation des données de validation en utilisant Vt_train\n",
        "X_val_reduced = np.dot(X_val, Vt_train.T)\n",
        "\n",
        "# Transformation des données de test\n",
        "X_test_reduced = np.dot(X_test, Vt_train.T)"
      ]
    },
    {
      "cell_type": "code",
      "execution_count": 13,
      "id": "5cphRjW6qx7F",
      "metadata": {
        "id": "5cphRjW6qx7F"
      },
      "outputs": [],
      "source": [
        "# Standardisation à nouveau aprés une réduction de dimension\n",
        "X_train_reduced = (X_train_reduced - X_train_reduced.mean(axis=0)) / X_train_reduced.std(axis=0)\n",
        "X_val_reduced = (X_val_reduced - X_train_reduced.mean(axis=0)) / X_train_reduced.std(axis=0)\n",
        "X_test_reduced = (X_test_reduced - X_train_reduced.mean(axis=0)) / X_train_reduced.std(axis=0)"
      ]
    },
    {
      "cell_type": "code",
      "execution_count": 14,
      "id": "HphVOZC5X_n0",
      "metadata": {
        "id": "HphVOZC5X_n0"
      },
      "outputs": [],
      "source": [
        "class LogisticRegressionMulticlass:\n",
        "    def __init__(self, max_iter=1000, C=1.0, tol=1e-5, class_weight='balanced', learning_rate=0.01, num_classes=4):\n",
        "        \"\"\"\n",
        "        Initialise les hyperparamètres du modèle de régression logistique multi-classes.\n",
        "\n",
        "        Arguments:\n",
        "        - max_iter : int, nombre maximum d'itérations pour l'optimisation\n",
        "        - C : float, inverse de la force de régularisation (plus C est petit, plus la régularisation est forte)\n",
        "        - tol : float, tolérance pour le critère d'arrêt\n",
        "        - class_weight : str, option pour équilibrer les classes (si 'balanced', ajuste les poids de chaque classe)\n",
        "        - learning_rate : float, taux d'apprentissage pour la descente de gradient\n",
        "        - num_classes : int, nombre de classes (4 pour votre cas)\n",
        "        \"\"\"\n",
        "        self.max_iter = max_iter\n",
        "        self.C = C\n",
        "        self.tol = tol\n",
        "        self.class_weight = class_weight\n",
        "        self.learning_rate = learning_rate\n",
        "        self.num_classes = num_classes\n",
        "        self.models = {}  # Un modèle pour chaque classe\n",
        "\n",
        "    def sigmoid(self, z):\n",
        "        return 1 / (1 + np.exp(-z))\n",
        "\n",
        "    def compute_class_weights(self, y_binary):\n",
        "        \"\"\"\n",
        "        Calcule les poids pour une classe binaire (dans le cadre OVA).\n",
        "        \"\"\"\n",
        "        if self.class_weight == 'balanced':\n",
        "            unique, counts = np.unique(y_binary, return_counts=True)\n",
        "            class_weights = {cls: len(y_binary) / (2 * count) for cls, count in zip(unique, counts)}\n",
        "            return np.vectorize(class_weights.get)(y_binary)\n",
        "        else:\n",
        "            return np.ones(len(y_binary))\n",
        "\n",
        "    def train_one_vs_all(self, X, y_binary):\n",
        "        \"\"\"\n",
        "        Entraîne un modèle de régression logistique binaire pour une classe donnée.\n",
        "        \"\"\"\n",
        "        n_samples, n_features = X.shape\n",
        "        weights = np.zeros(n_features + 1)  # Inclure le biais\n",
        "\n",
        "        # Ajouter une colonne de 1 à X pour le biais\n",
        "        X = np.c_[X, np.ones(n_samples)]\n",
        "\n",
        "        # Poids pour les classes équilibrées\n",
        "        sample_weights = self.compute_class_weights(y_binary)\n",
        "\n",
        "        for _ in range(self.max_iter):\n",
        "            # Calcul des prédictions\n",
        "            z = np.dot(X, weights)\n",
        "            predictions = self.sigmoid(z)\n",
        "\n",
        "            # Calcul du coût et du gradient\n",
        "            reg_term = (self.C / 2) * np.sum(np.square(weights[:-1]))\n",
        "            cost = -(1 / n_samples) * np.sum(sample_weights * (y_binary * np.log(predictions) + (1 - y_binary) * np.log(1 - predictions))) + reg_term\n",
        "\n",
        "            error = predictions - y_binary\n",
        "            dw = (1 / n_samples) * np.dot(X.T, sample_weights * error)\n",
        "            dw[:-1] += self.C * weights[:-1]  # Régularisation uniquement sur les poids (pas sur le biais)\n",
        "\n",
        "            # Mise à jour des poids\n",
        "            weights -= self.learning_rate * dw\n",
        "\n",
        "            # Arrêt précoce\n",
        "            if np.linalg.norm(dw) < self.tol:\n",
        "                break\n",
        "\n",
        "        return weights\n",
        "\n",
        "    def fit(self, X, y):\n",
        "        \"\"\"\n",
        "        Entraîne un modèle pour chaque classe (one-vs-all).\n",
        "        \"\"\"\n",
        "        n_samples, n_features = X.shape\n",
        "\n",
        "        for class_label in range(self.num_classes):\n",
        "            # Convertir les labels pour la classe actuelle (1 pour la classe cible, 0 pour les autres)\n",
        "            y_binary = (y == class_label).astype(int)\n",
        "            print(f\"Training model for class {class_label}...\")\n",
        "            self.models[class_label] = self.train_one_vs_all(X, y_binary)\n",
        "\n",
        "    def predict(self, X):\n",
        "        \"\"\"\n",
        "        Prédictions pour les données d'entrée X.\n",
        "        \"\"\"\n",
        "        n_samples = X.shape[0]\n",
        "        X = np.c_[X, np.ones(n_samples)]  # Ajouter une colonne de biais\n",
        "\n",
        "        # Calculer les scores pour chaque classe\n",
        "        scores = np.zeros((n_samples, self.num_classes))\n",
        "        for class_label, weights in self.models.items():\n",
        "            z = np.dot(X, weights)\n",
        "            scores[:, class_label] = self.sigmoid(z)\n",
        "\n",
        "        # Choisir la classe avec le score le plus élevé\n",
        "        return np.argmax(scores, axis=1)"
      ]
    },
    {
      "cell_type": "code",
      "execution_count": 15,
      "id": "eY6ipdZIX_0J",
      "metadata": {
        "colab": {
          "base_uri": "https://localhost:8080/"
        },
        "id": "eY6ipdZIX_0J",
        "outputId": "dee5aab8-044d-4c5e-a285-10c4518169c0"
      },
      "outputs": [
        {
          "output_type": "stream",
          "name": "stdout",
          "text": [
            "Training model for class 0...\n",
            "Training model for class 1...\n",
            "Training model for class 2...\n",
            "Training model for class 3...\n"
          ]
        }
      ],
      "source": [
        "# Initialiser le modèle\n",
        "logistic_regression = LogisticRegressionMulticlass(max_iter=1000, C=1.0, learning_rate=0.01, num_classes=4)\n",
        "\n",
        "# Entraîner le modèle\n",
        "logistic_regression.fit(X_train_reduced, y_train_augmented)"
      ]
    },
    {
      "cell_type": "code",
      "execution_count": 16,
      "id": "jxF2oyTOYHTi",
      "metadata": {
        "colab": {
          "base_uri": "https://localhost:8080/"
        },
        "id": "jxF2oyTOYHTi",
        "outputId": "64fc7f69-1856-454f-af40-2abeda3925bd"
      },
      "outputs": [
        {
          "output_type": "stream",
          "name": "stdout",
          "text": [
            "Accuracy on train set: 0.52\n",
            "Accuracy on validation set: 0.47\n"
          ]
        }
      ],
      "source": [
        "# Prédiction\n",
        "y_pred_train = logistic_regression.predict(X_train_reduced)\n",
        "y_pred_val = logistic_regression.predict(X_val_reduced)\n",
        "\n",
        "# Évaluation\n",
        "accuracy_train = np.mean(y_train_augmented == y_pred_train)\n",
        "accuracy_val = np.mean(y_val == y_pred_val)\n",
        "print(f\"Accuracy on train set: {accuracy_train:.2f}\")\n",
        "print(f\"Accuracy on validation set: {accuracy_val:.2f}\")"
      ]
    },
    {
      "cell_type": "code",
      "execution_count": 17,
      "id": "7crFHl6stC8x",
      "metadata": {
        "id": "7crFHl6stC8x"
      },
      "outputs": [],
      "source": [
        "def compute_class_weights(y):\n",
        "    \"\"\"\n",
        "    Calcule les poids des classes selon leur fréquence.\n",
        "    \"\"\"\n",
        "    unique_classes, counts = np.unique(y, return_counts=True)\n",
        "    total_samples = len(y)\n",
        "    weights = {cls: total_samples / (len(unique_classes) * count) for cls, count in zip(unique_classes, counts)}\n",
        "    return weights\n",
        "\n",
        "def svm_binary_fit(X, y, initial_learning_rate=0.01, C=1.0, epochs=1000, decay_rate=0.01, class_weights=None):\n",
        "    \"\"\"\n",
        "    Entraîne un SVM binaire avec un learning rate décroissant, gestion des classes déséquilibrées,\n",
        "    et suivi de l'accuracy par époque.\n",
        "    \"\"\"\n",
        "    n_samples, n_features = X.shape\n",
        "    w = np.zeros(n_features)\n",
        "    b = 0\n",
        "    accuracy_history = []\n",
        "\n",
        "    for epoch in range(epochs):\n",
        "        # Décroissance du learning rate\n",
        "        learning_rate = initial_learning_rate / (1 + decay_rate * epoch)\n",
        "\n",
        "        # Calcul des marges\n",
        "        margins = y * (np.dot(X, w) + b)\n",
        "        misclassified = margins < 1  # Identifie les mauvaises classifications\n",
        "\n",
        "        if np.any(misclassified):  # Vérifiez si des échantillons sont mal classifiés\n",
        "            # Appliquer les poids pour chaque échantillon mal classifié\n",
        "            if class_weights is not None:\n",
        "                weights = np.vectorize(class_weights.get)(y[misclassified])\n",
        "            else:\n",
        "                weights = np.ones_like(y[misclassified])\n",
        "\n",
        "            # Gradient pondéré\n",
        "            dw = w - C * np.dot((weights[:, None] * X[misclassified]).T, y[misclassified]) / n_samples\n",
        "            db = -C * np.sum(weights * y[misclassified]) / n_samples\n",
        "        else:\n",
        "            # Si aucun échantillon mal classifié, utilisez uniquement la régularisation\n",
        "            dw = w\n",
        "            db = 0\n",
        "\n",
        "        # Mise à jour\n",
        "        w -= learning_rate * dw\n",
        "        b -= learning_rate * db\n",
        "\n",
        "        # Prédictions et calcul de l'accuracy\n",
        "        predictions = np.sign(np.dot(X, w) + b)\n",
        "        accuracy = np.mean(predictions == y)\n",
        "        accuracy_history.append(accuracy)\n",
        "\n",
        "    return w, b, accuracy_history\n",
        "\n",
        "def svm_binary_predict(X, w, b):\n",
        "    \"\"\"\n",
        "    Prédictions pour un SVM binaire.\n",
        "    \"\"\"\n",
        "    return np.sign(np.dot(X, w) + b)\n",
        "\n",
        "def one_vs_all_svm(X_train, y_train, num_classes, initial_learning_rate=0.01, C=1.0, epochs=1000, decay_rate=0.01):\n",
        "    \"\"\"\n",
        "    Entraîne un SVM multi-classes en mode \"one vs all\" avec un learning rate décroissant et gestion des classes déséquilibrées.\n",
        "    \"\"\"\n",
        "    models = {}\n",
        "    accuracy_histories = {}\n",
        "    for class_label in range(num_classes):\n",
        "        # Convert labels to binary for \"one vs all\"\n",
        "        y_binary = np.where(y_train == class_label, 1, -1)\n",
        "\n",
        "        # Calcul des poids des classes\n",
        "        class_weights = compute_class_weights(y_binary)\n",
        "\n",
        "        # Entraîner le SVM binaire\n",
        "        w, b, accuracy_history = svm_binary_fit(X_train, y_binary, initial_learning_rate, C, epochs, decay_rate, class_weights)\n",
        "        models[class_label] = (w, b)\n",
        "        accuracy_histories[class_label] = accuracy_history\n",
        "    return models, accuracy_histories\n",
        "\n",
        "def predict(X, models):\n",
        "    \"\"\"\n",
        "    Prédictions pour un SVM multi-classes en mode \"one vs all\".\n",
        "    \"\"\"\n",
        "    predictions = np.zeros((X.shape[0], len(models)))\n",
        "    for class_label, (w, b) in models.items():\n",
        "        predictions[:, class_label] = np.dot(X, w) + b\n",
        "    return np.argmax(predictions, axis=1)\n",
        "\n",
        "# Fonction de visualisation de l'accuracy\n",
        "def plot_training_accuracy(accuracy_histories):\n",
        "    \"\"\"\n",
        "    Trace l'évolution de l'accuracy pendant l'entraînement pour chaque classe.\n",
        "    \"\"\"\n",
        "    plt.figure(figsize=(10, 6))\n",
        "    for class_label, history in accuracy_histories.items():\n",
        "        plt.plot(history, label=f\"Class {class_label} Accuracy\")\n",
        "    plt.xlabel(\"Epochs\")\n",
        "    plt.ylabel(\"Accuracy\")\n",
        "    plt.title(\"Training Accuracy Over Epochs (One-vs-All)\")\n",
        "    plt.legend()\n",
        "    plt.grid(True)\n",
        "    plt.show()"
      ]
    },
    {
      "cell_type": "code",
      "execution_count": 18,
      "id": "gq1QUI5PtDIr",
      "metadata": {
        "colab": {
          "base_uri": "https://localhost:8080/"
        },
        "id": "gq1QUI5PtDIr",
        "outputId": "56677508-051e-4b28-e89f-cf9c7b31427a"
      },
      "outputs": [
        {
          "output_type": "stream",
          "name": "stdout",
          "text": [
            "Temps d'entraînement estimé : 454.50 secondes\n"
          ]
        }
      ],
      "source": [
        "import time\n",
        "\n",
        "# Dimensions des données\n",
        "n_samples = X_train_reduced.shape[0]\n",
        "n_features = X_train_reduced.shape[1]\n",
        "num_classes = 4\n",
        "epochs = 1000\n",
        "\n",
        "# Petit échantillon pour estimation\n",
        "sample_fraction = 0.01  # Utilisez 1% des données pour l'estimation\n",
        "small_X = X_train_reduced[:int(n_samples * sample_fraction)]\n",
        "small_y = y_train_augmented[:int(n_samples * sample_fraction)]\n",
        "\n",
        "# Entraînement sur un petit échantillon\n",
        "start_time = time.time()\n",
        "_ = one_vs_all_svm(small_X, small_y, num_classes=num_classes, epochs=epochs, initial_learning_rate=0.01, C=1.0, decay_rate=0.01)\n",
        "elapsed_time = time.time() - start_time\n",
        "\n",
        "# Temps total estimé pour l'entrainement des données d'entraînement\n",
        "estimated_total_time = elapsed_time / sample_fraction\n",
        "print(f\"Temps d'entraînement estimé : {estimated_total_time:.2f} secondes\")"
      ]
    },
    {
      "cell_type": "code",
      "execution_count": 19,
      "id": "jrAk28vStP1J",
      "metadata": {
        "id": "jrAk28vStP1J"
      },
      "outputs": [],
      "source": [
        "# Entraînement\n",
        "models, accuracy_histories = one_vs_all_svm(X_train_reduced, y_train_augmented, num_classes=num_classes,\n",
        "                                            initial_learning_rate=0.1, C=1.0, epochs=1000, decay_rate=0.1)\n",
        "\n",
        "# Visualisation de l'évolution de l'accuracy\n",
        "#plot_training_accuracy(accuracy_histories)"
      ]
    },
    {
      "cell_type": "code",
      "execution_count": 20,
      "id": "eVAK1p1FtP4i",
      "metadata": {
        "colab": {
          "base_uri": "https://localhost:8080/"
        },
        "id": "eVAK1p1FtP4i",
        "outputId": "29b2919d-4ec3-4af3-fc8b-601ef3d8bb41"
      },
      "outputs": [
        {
          "output_type": "stream",
          "name": "stdout",
          "text": [
            "Accuracy on train set: 0.52\n",
            "Accuracy on validation set: 0.46\n"
          ]
        }
      ],
      "source": [
        "# Prédiction\n",
        "y_pred_train = predict(X_train_reduced, models)\n",
        "y_pred_val = predict(X_val_reduced, models)\n",
        "\n",
        "# Évaluation\n",
        "accuracy_train = np.mean(y_train_augmented == y_pred_train)\n",
        "accuracy_val = np.mean(y_val == y_pred_val)\n",
        "print(f\"Accuracy on train set: {accuracy_train:.2f}\")\n",
        "print(f\"Accuracy on validation set: {accuracy_val:.2f}\")"
      ]
    },
    {
      "cell_type": "code",
      "execution_count": 21,
      "id": "fir1gUer6wjD",
      "metadata": {
        "id": "fir1gUer6wjD"
      },
      "outputs": [],
      "source": [
        "# Calcul du noyau polynomial avec sécurité contre les valeurs extrêmes\n",
        "def polynomial_kernel_batch(X, Y, degree, coef0, batch_size=64):\n",
        "    n_samples_X, n_samples_Y = len(X), len(Y)\n",
        "    K = np.zeros((n_samples_X, n_samples_Y))\n",
        "    for i in range(0, n_samples_X, batch_size):\n",
        "        X_batch = X[i:i + batch_size]\n",
        "        linear_component = np.dot(X_batch, Y.T)\n",
        "        poly_component = (linear_component + coef0) ** degree\n",
        "        K[i:i + batch_size, :] = np.clip(linear_component + poly_component, -1e3, 1e3)\n",
        "    return K\n",
        "\n",
        "# Entraînement d'un SVM binaire avec noyau polynomial par batch\n",
        "def train_binary_svm_poly_batch(X, y, C, degree, coef0, max_iter=100, tol=1e-3, batch_size=64):\n",
        "    n_samples, n_features = X.shape\n",
        "    alpha = np.zeros(n_samples)\n",
        "    b = 0\n",
        "\n",
        "    for _ in range(max_iter):\n",
        "        for i in range(0, n_samples, batch_size):\n",
        "            batch_indices = range(i, min(i + batch_size, n_samples))\n",
        "            X_batch = X[batch_indices]\n",
        "            y_batch = y[batch_indices]\n",
        "\n",
        "            K_batch = polynomial_kernel_batch(X_batch, X, degree, coef0, batch_size)\n",
        "\n",
        "            for j, idx in enumerate(batch_indices):\n",
        "                margin = np.sum(alpha * y * K_batch[j]) + b\n",
        "                if np.abs(margin) > 1e3:\n",
        "                    margin = np.sign(margin) * 1e3\n",
        "                if y[idx] * margin < 1:\n",
        "                    alpha[idx] += C * (1 - y[idx] * margin)\n",
        "                else:\n",
        "                    alpha[idx] -= C * alpha[idx]\n",
        "                alpha[idx] = np.clip(alpha[idx], 0, C)\n",
        "\n",
        "        if np.linalg.norm(alpha - np.clip(alpha, 0, C)) < tol:\n",
        "            break\n",
        "\n",
        "    return alpha, b\n",
        "\n",
        "# Entraînement multi-classe (OvR) avec noyau polynomial par batch\n",
        "def train_svm_poly_ovr_batch(X, y, C, degree, coef0, max_iter=100, tol=1e-3, batch_size=64):\n",
        "    n_classes = len(np.unique(y))\n",
        "    models = {}\n",
        "    for k in range(n_classes):\n",
        "        y_k = np.where(y == k, 1, -1)\n",
        "        alpha, b = train_binary_svm_poly_batch(X, y_k, C, degree, coef0, max_iter, tol, batch_size)\n",
        "        models[k] = (alpha, b, y_k)\n",
        "    return models\n",
        "\n",
        "# Prédiction multi-classe avec noyau polynomial\n",
        "def predict_svm_poly_ovr_batch(X_train, y_train, X_test, models, degree, coef0, batch_size=64):\n",
        "    n_classes = len(models)\n",
        "    n_test = len(X_test)\n",
        "    scores = np.zeros((n_test, n_classes))\n",
        "\n",
        "    for k, (alpha, b, y_k) in models.items():\n",
        "        for i in range(0, n_test, batch_size):\n",
        "            X_test_batch = X_test[i:i + batch_size]\n",
        "            K_batch = polynomial_kernel_batch(X_test_batch, X_train, degree, coef0, batch_size)\n",
        "            scores[i:i + batch_size, k] = np.sum(alpha * y_k * K_batch, axis=1) + b\n",
        "\n",
        "    return np.argmax(scores, axis=1)"
      ]
    },
    {
      "cell_type": "code",
      "execution_count": 27,
      "id": "1d9e77d0-0cee-4138-923a-c2866a18077a",
      "metadata": {
        "id": "1d9e77d0-0cee-4138-923a-c2866a18077a",
        "colab": {
          "base_uri": "https://localhost:8080/"
        },
        "outputId": "98142939-5967-43ae-c6ad-44bb17cd336d"
      },
      "outputs": [
        {
          "output_type": "stream",
          "name": "stdout",
          "text": [
            "Training model for class 0...\n",
            "Training model for class 1...\n",
            "Training model for class 2...\n",
            "Training model for class 3...\n"
          ]
        }
      ],
      "source": [
        "# Entraînement final sur tous les données ( entraînement et validation)\n",
        "data_train = np.concatenate((X_train_reduced, X_val_reduced), axis=0)\n",
        "label_train = np.concatenate((y_train_augmented, y_val), axis=0)\n",
        "\n",
        "# Entraînement sur l'ensemble complet\n",
        "models_final = logistic_regression.fit(data_train, label_train)"
      ]
    },
    {
      "cell_type": "code",
      "execution_count": 31,
      "id": "c5f765a3-5d36-4db6-9563-59deb0c04fdf",
      "metadata": {
        "id": "c5f765a3-5d36-4db6-9563-59deb0c04fdf",
        "colab": {
          "base_uri": "https://localhost:8080/"
        },
        "outputId": "0ca9d66e-2a60-4039-c4be-27ea4a5b568f"
      },
      "outputs": [
        {
          "output_type": "stream",
          "name": "stdout",
          "text": [
            "Fichier de soumission généré : submission.csv\n"
          ]
        }
      ],
      "source": [
        "# Prédiction\n",
        "predictions = logistic_regression.predict(X_test_reduced)\n",
        "\n",
        "# Génération du fichier de soumission\n",
        "submission = np.column_stack((np.arange(1, len(predictions) + 1), predictions))\n",
        "np.savetxt('submission1.csv', submission, fmt='%d', delimiter=',', header='ID,Class', comments='')\n",
        "print(\"Fichier de soumission généré : submission.csv\")"
      ]
    },
    {
      "cell_type": "code",
      "execution_count": 32,
      "id": "d1e79dd8-96a2-4546-b620-e0fe2d758da2",
      "metadata": {
        "id": "d1e79dd8-96a2-4546-b620-e0fe2d758da2",
        "colab": {
          "base_uri": "https://localhost:8080/"
        },
        "outputId": "cb236765-d8db-473f-d4bb-03475c411efc"
      },
      "outputs": [
        {
          "output_type": "stream",
          "name": "stdout",
          "text": [
            "Accuracy on validation and train set: 0.51\n"
          ]
        }
      ],
      "source": [
        "# Prédiction\n",
        "y_pred = logistic_regression.predict(data_train)\n",
        "\n",
        "# Évaluation\n",
        "accuracy = np.mean(y_pred == label_train)\n",
        "print(f\"Accuracy on validation and train set: {accuracy:.2f}\")"
      ]
    }
  ],
  "metadata": {
    "colab": {
      "machine_shape": "hm",
      "provenance": []
    },
    "kernelspec": {
      "display_name": "Python 3",
      "name": "python3"
    },
    "language_info": {
      "codemirror_mode": {
        "name": "ipython",
        "version": 3
      },
      "file_extension": ".py",
      "mimetype": "text/x-python",
      "name": "python",
      "nbconvert_exporter": "python",
      "pygments_lexer": "ipython3",
      "version": "3.12.3"
    }
  },
  "nbformat": 4,
  "nbformat_minor": 5
}