{
  "nbformat": 4,
  "nbformat_minor": 0,
  "metadata": {
    "colab": {
      "provenance": [],
      "gpuType": "A100",
      "machine_shape": "hm"
    },
    "kernelspec": {
      "name": "python3",
      "display_name": "Python 3"
    },
    "language_info": {
      "name": "python"
    },
    "accelerator": "GPU"
  },
  "cells": [
    {
      "cell_type": "code",
      "execution_count": 1,
      "metadata": {
        "id": "bvLlP1baH23w"
      },
      "outputs": [],
      "source": [
        "import numpy as np\n",
        "import pickle\n",
        "import matplotlib.pyplot as plt"
      ]
    },
    {
      "cell_type": "code",
      "source": [
        "# Chargement et inspection des données\n",
        "def load_data(train_path, test_path):\n",
        "    # Charger les données d'entraînement\n",
        "    with open(train_path, 'rb') as f:\n",
        "        train_data = pickle.load(f)\n",
        "    #print(\"Training data keys:\", train_data.keys())  # Vérification des clés\n",
        "\n",
        "    # Charger les données de test\n",
        "    with open(test_path, 'rb') as f:\n",
        "        test_data = pickle.load(f)\n",
        "    #print(\"Test data keys:\", test_data.keys())  # Vérification des clés\n",
        "\n",
        "    # Identifier les clés correctes\n",
        "    X_train = train_data.get('images')\n",
        "    y_train = train_data.get('labels')\n",
        "    X_test = test_data.get('images')\n",
        "\n",
        "    if X_train is None or y_train is None or X_test is None:\n",
        "        raise ValueError(\"Les données n'ont pas les bonnes clés. Vérifiez votre fichier pickle.\")\n",
        "\n",
        "    # Convertir en tableaux NumPy\n",
        "    X_train = np.array(X_train)\n",
        "    y_train = np.array(y_train)\n",
        "    X_test = np.array(X_test)\n",
        "\n",
        "    return X_train, y_train, X_test"
      ],
      "metadata": {
        "id": "2k27an1cIHj6"
      },
      "execution_count": 2,
      "outputs": []
    },
    {
      "cell_type": "code",
      "source": [
        "# Charger les données\n",
        "train_path = 'train_data.pkl'\n",
        "test_path = 'test_data.pkl'\n",
        "X_train, y_train, X_test = load_data(train_path, test_path)"
      ],
      "metadata": {
        "id": "PCEKwnXxIKhY"
      },
      "execution_count": 3,
      "outputs": []
    },
    {
      "cell_type": "code",
      "source": [
        "# Séparation des données\n",
        "np.random.seed(42) # pour assurer la reproductibilité\n",
        "\n",
        "# Mélanger les indices\n",
        "indices = np.arange(X_train.shape[0])\n",
        "np.random.shuffle(indices)\n",
        "\n",
        "# Calculer la taille de l'ensemble de test\n",
        "test_size = 0.2 # 20% des données\n",
        "test_size = int(X_train.shape[0] * test_size)\n",
        "\n",
        "# Diviser les indices en indices d'entraînement et de validation\n",
        "train_indices = indices[test_size:]\n",
        "val_indices = indices[:test_size]\n",
        "\n",
        "# Extraire les échantillons pour l'entraînement et la validation\n",
        "X_train, X_val = X_train[train_indices], X_train[val_indices]\n",
        "y_train, y_val = y_train[train_indices], y_train[val_indices]\n",
        "\n",
        "print(f\"Shape of X_train is:{X_train.shape}\")\n",
        "print(f\"Shape of X_val is:{X_val.shape}\")\n",
        "print(f\"Shape of y_train is:{y_train.shape}\")\n",
        "print(f\"Shape of y_val is:{y_val.shape}\")"
      ],
      "metadata": {
        "colab": {
          "base_uri": "https://localhost:8080/"
        },
        "id": "1Yle5zByIQZG",
        "outputId": "337426c9-9eaa-48aa-dec7-30c1f291bb31"
      },
      "execution_count": 4,
      "outputs": [
        {
          "output_type": "stream",
          "name": "stdout",
          "text": [
            "Shape of X_train is:(77982, 28, 28)\n",
            "Shape of X_val is:(19495, 28, 28)\n",
            "Shape of y_train is:(77982,)\n",
            "Shape of y_val is:(19495,)\n"
          ]
        }
      ]
    },
    {
      "cell_type": "code",
      "source": [
        "# Vérification de la distribution des classes\n",
        "unique, counts = np.unique(y_train, return_counts=True)\n",
        "print(f\"Distribution des labels dans l'ensemble d'entraînement: {dict(zip(unique, counts))}\")"
      ],
      "metadata": {
        "colab": {
          "base_uri": "https://localhost:8080/"
        },
        "id": "aKg_BzytV58M",
        "outputId": "13254c24-3bf2-4479-d738-9157593d9378"
      },
      "execution_count": 5,
      "outputs": [
        {
          "output_type": "stream",
          "name": "stdout",
          "text": [
            "Distribution des labels dans l'ensemble d'entraînement: {0: 26830, 1: 8168, 2: 6213, 3: 36771}\n"
          ]
        }
      ]
    },
    {
      "cell_type": "code",
      "source": [
        "from PIL import Image\n",
        "from torchvision import transforms\n",
        "import torch\n",
        "\n",
        "# Définir les transformations d'augmentation\n",
        "transform = transforms.Compose([\n",
        "    transforms.RandomRotation(30),\n",
        "    transforms.RandomHorizontalFlip(),\n",
        "    transforms.RandomAffine(degrees=15, translate=(0.2, 0.2)),\n",
        "    transforms.ToTensor(),  # Convertir en tenseur PyTorch\n",
        "    transforms.RandomErasing(p=0.5, scale=(0.02, 0.2))  # RandomErasing s'applique sur les tenseurs\n",
        "])\n",
        "\n",
        "# Fonction pour augmenter une image\n",
        "def augment_image(image):\n",
        "    \"\"\"\n",
        "    Augmente une image donnée (NumPy array ou PyTorch tensor).\n",
        "    Args:\n",
        "        image: Image en format NumPy array, PyTorch tensor ou PIL.Image.\n",
        "    Returns:\n",
        "        Image augmentée sous forme de tenseur PyTorch.\n",
        "    \"\"\"\n",
        "    # Convert to PIL Image only if it's not already\n",
        "    if not isinstance(image, Image.Image):\n",
        "        image = Image.fromarray(image)\n",
        "\n",
        "    # Appliquer les transformations\n",
        "    augmented_image = transform(image)\n",
        "    return augmented_image\n",
        "\n",
        "# Fonction pour augmenter les données\n",
        "def augment_data(X_class, y_class, target_count):\n",
        "    augmented_X = []\n",
        "    augmented_y = []\n",
        "    current_count = len(X_class)\n",
        "\n",
        "    while len(augmented_X) + current_count < target_count:\n",
        "        for i in range(current_count):\n",
        "            image = X_class[i]\n",
        "            augmented_image = augment_image(image).numpy()  # Appel à la fonction\n",
        "            # Reshape to match original dimensions:\n",
        "            augmented_image = augmented_image.squeeze(0) # Remove the extra dimension\n",
        "            augmented_X.append(augmented_image)\n",
        "            augmented_y.append(y_class[i])\n",
        "\n",
        "            if len(augmented_X) + current_count >= target_count:\n",
        "                break\n",
        "\n",
        "    return np.array(augmented_X), np.array(augmented_y)\n",
        "\n",
        "# Filtrer les indices des classes 1 et 2\n",
        "indices_class_1 = np.where(y_train == 1)[0]\n",
        "indices_class_2 = np.where(y_train == 2)[0]\n",
        "\n",
        "# Extraire les données des classes 1 et 2\n",
        "X_class_1 = X_train[indices_class_1]\n",
        "X_class_2 = X_train[indices_class_2]\n",
        "y_class_1 = y_train[indices_class_1]\n",
        "y_class_2 = y_train[indices_class_2]\n",
        "\n",
        "# Déterminer combien d'échantillons ajouter\n",
        "target_count = 26000\n",
        "\n",
        "# Augmenter les données pour les classes 1 et 2\n",
        "X_class_1_aug, y_class_1_aug = augment_data(X_class_1, y_class_1, target_count)\n",
        "X_class_2_aug, y_class_2_aug = augment_data(X_class_2, y_class_2, target_count)\n",
        "\n",
        "# Combiner les données d'origine et augmentées\n",
        "X_train_augmented = np.concatenate((X_train, X_class_1_aug, X_class_2_aug), axis=0)\n",
        "y_train_augmented = np.concatenate((y_train, y_class_1_aug, y_class_2_aug), axis=0)\n",
        "\n",
        "# Mélanger les données après augmentation\n",
        "indices = np.random.permutation(len(X_train_augmented))  # Générer des indices aléatoires\n",
        "X_train_augmented = X_train_augmented[indices]\n",
        "y_train_augmented = y_train_augmented[indices]\n",
        "\n",
        "# Vérifier la nouvelle distribution des labels\n",
        "unique, counts = np.unique(y_train_augmented, return_counts=True)\n",
        "print(f\"Nouvelle distribution des labels : {dict(zip(unique, counts))}\")"
      ],
      "metadata": {
        "colab": {
          "base_uri": "https://localhost:8080/"
        },
        "id": "8SLSzJjrk_p4",
        "outputId": "dca64f92-012c-454c-fbe1-1e08e655bde9"
      },
      "execution_count": 6,
      "outputs": [
        {
          "output_type": "stream",
          "name": "stdout",
          "text": [
            "Nouvelle distribution des labels : {0: 26830, 1: 26000, 2: 26000, 3: 36771}\n"
          ]
        }
      ]
    },
    {
      "cell_type": "code",
      "source": [
        "# Standardisation\n",
        "X_train_augmented = (X_train_augmented - X_train.mean(axis=0)) / X_train.std(axis=0)\n",
        "X_val = (X_val - X_train.mean(axis=0)) / X_train.std(axis=0)\n",
        "X_test = (X_test - X_train.mean(axis=0)) / X_train.std(axis=0)"
      ],
      "metadata": {
        "id": "f2Du4PgrIz4M"
      },
      "execution_count": 7,
      "outputs": []
    },
    {
      "cell_type": "code",
      "source": [
        "import torch.nn as nn\n",
        "import torch.optim as optim\n",
        "from torch.utils.data import Dataset, DataLoader\n",
        "from torch.optim.lr_scheduler import CosineAnnealingLR\n",
        "\n",
        "# Vérifiez si le GPU est disponible\n",
        "device = torch.device(\"cuda\" if torch.cuda.is_available() else \"cpu\")\n",
        "print(f\"Utilisation de {device}\")\n",
        "\n",
        "# 1. Définir un Dataset personnalisé\n",
        "class ImageDataset(Dataset):\n",
        "    def __init__(self, images, labels):\n",
        "        self.images = torch.tensor(images, dtype=torch.float32).unsqueeze(1)  # Ajouter une dimension pour le canal\n",
        "        self.labels = torch.tensor(labels, dtype=torch.long)\n",
        "\n",
        "    def __len__(self):\n",
        "        return len(self.labels)\n",
        "\n",
        "    def __getitem__(self, idx):\n",
        "        return self.images[idx], self.labels[idx]\n",
        "\n",
        "# Création des instances de datasets\n",
        "train_dataset = ImageDataset(X_train_augmented, y_train_augmented)\n",
        "val_dataset = ImageDataset(X_val, y_val)\n",
        "\n",
        "# Création des DataLoaders\n",
        "train_loader = DataLoader(train_dataset, batch_size=32, shuffle=True)\n",
        "val_loader = DataLoader(val_dataset, batch_size=32, shuffle=False)\n",
        "\n",
        "# Définir le modèle CNN\n",
        "class CNNModel(nn.Module):\n",
        "  def __init__(self, num_classes=4):\n",
        "      super(CNNModel, self).__init__()\n",
        "      self.conv_layers = nn.Sequential(\n",
        "          nn.Conv2d(1, 64, kernel_size=3, stride=1, padding=1),\n",
        "          nn.BatchNorm2d(64),\n",
        "          nn.ReLU(),\n",
        "          nn.Conv2d(64, 128, kernel_size=3, stride=1, padding=1),\n",
        "          nn.BatchNorm2d(128),\n",
        "          nn.ReLU(),\n",
        "          nn.MaxPool2d(kernel_size=2, stride=2),\n",
        "\n",
        "          nn.Conv2d(128, 256, kernel_size=3, stride=1, padding=1),\n",
        "          nn.BatchNorm2d(256),\n",
        "          nn.ReLU(),\n",
        "          nn.Conv2d(256, 512, kernel_size=3, stride=1, padding=1),\n",
        "          nn.BatchNorm2d(512),\n",
        "          nn.ReLU(),\n",
        "          nn.MaxPool2d(kernel_size=2, stride=2)\n",
        "      )\n",
        "      self.fc_layers = nn.Sequential(\n",
        "          nn.Flatten(),\n",
        "          nn.Linear(512 * 7 * 7,1024),\n",
        "          nn.ReLU(),\n",
        "          nn.Dropout(0.5),\n",
        "\n",
        "          nn.Linear(1024, 512),\n",
        "          nn.ReLU(),\n",
        "          nn.Dropout(0.5),\n",
        "\n",
        "          nn.Linear(512, 256),\n",
        "          nn.ReLU(),\n",
        "          nn.Dropout(0.3),\n",
        "\n",
        "          nn.Linear(256, num_classes)\n",
        "      )\n",
        "\n",
        "  def forward(self, x):\n",
        "      x = self.conv_layers(x)\n",
        "      x = self.fc_layers(x)\n",
        "      return x\n",
        "\n",
        "model = CNNModel(num_classes=4).to(device)\n",
        "\n",
        "# Recalculer les poids\n",
        "class_weights = torch.tensor([1.5, 2, 2.5, 1], dtype=torch.float).to(device)\n",
        "\n",
        "# Utiliser CrossEntropyLoss avec des poids\n",
        "criterion = nn.CrossEntropyLoss(weight=class_weights)\n",
        "\n",
        "# Optimiseur\n",
        "optimizer = optim.Adam(model.parameters(), lr=0.001)\n",
        "\n",
        "# Cosine Annealing Scheduler\n",
        "scheduler = CosineAnnealingLR(optimizer, T_max=10, eta_min=0)\n",
        "\n",
        "# Fonction pour entraîner le modèle\n",
        "def train_model(model, train_loader, val_loader, criterion, optimizer, scheduler, num_epochs=50, early_stop_patience=5):\n",
        "    \"\"\"\n",
        "    Entraîne un modèle avec Cosine Annealing Scheduler et Early Stopping.\n",
        "\n",
        "    Args:\n",
        "        model (torch.nn.Module): Le modèle à entraîner.\n",
        "        train_loader (DataLoader): DataLoader pour l'entraînement.\n",
        "        val_loader (DataLoader): DataLoader pour la validation.\n",
        "        criterion: Fonction de perte.\n",
        "        optimizer: Optimiseur.\n",
        "        scheduler: Scheduler pour le taux d'apprentissage.\n",
        "        num_epochs (int): Nombre maximum d'époques.\n",
        "        early_stop_patience (int): Nombre d'époques sans amélioration avant l'arrêt.\n",
        "\n",
        "    Returns:\n",
        "        model (torch.nn.Module): Le modèle avec les meilleurs poids restaurés.\n",
        "    \"\"\"\n",
        "    best_val_loss = float('inf')\n",
        "    epochs_no_improve = 0\n",
        "    best_model_state = None\n",
        "\n",
        "    for epoch in range(num_epochs):\n",
        "        # Mode entraînement\n",
        "        model.train()\n",
        "        running_loss_train = 0.0\n",
        "        correct_train = 0\n",
        "        total_train = 0\n",
        "\n",
        "        for inputs, labels in train_loader:\n",
        "            inputs, labels = inputs.to(device), labels.to(device)\n",
        "\n",
        "            optimizer.zero_grad()\n",
        "            outputs = model(inputs)\n",
        "            loss = criterion(outputs, labels)\n",
        "            loss.backward()\n",
        "            optimizer.step()\n",
        "\n",
        "            running_loss_train += loss.item()\n",
        "            _, predicted = torch.max(outputs, 1)\n",
        "            total_train += labels.size(0)\n",
        "            correct_train += (predicted == labels).sum().item()\n",
        "\n",
        "        train_loss = running_loss_train / len(train_loader)\n",
        "        train_accuracy = correct_train / total_train\n",
        "\n",
        "        # Mode validation\n",
        "        model.eval()\n",
        "        running_loss_val = 0.0\n",
        "        correct_val = 0\n",
        "        total_val = 0\n",
        "\n",
        "        with torch.no_grad():\n",
        "            for inputs, labels in val_loader:\n",
        "                inputs, labels = inputs.to(device), labels.to(device)\n",
        "                outputs = model(inputs)\n",
        "                loss = criterion(outputs, labels)\n",
        "\n",
        "                running_loss_val += loss.item()\n",
        "                _, predicted = torch.max(outputs, 1)\n",
        "                total_val += labels.size(0)\n",
        "                correct_val += (predicted == labels).sum().item()\n",
        "\n",
        "        val_loss = running_loss_val / len(val_loader)\n",
        "        val_accuracy = correct_val / total_val\n",
        "\n",
        "        # Mettre à jour le scheduler\n",
        "        scheduler.step()\n",
        "\n",
        "        # Afficher les métriques\n",
        "        print(f\"Epoch {epoch+1}/{num_epochs} | \"\n",
        "              f\"Train Loss: {train_loss:.4f}, Train Accuracy: {train_accuracy * 100:.2f}% | \"\n",
        "              f\"Validation Loss: {val_loss:.4f}, Validation Accuracy: {val_accuracy * 100:.2f}% | \"\n",
        "              f\"Learning Rate: {scheduler.get_last_lr()[0]:.6f}\")\n",
        "\n",
        "        # Early Stopping\n",
        "        if val_loss < best_val_loss:\n",
        "            best_val_loss = val_loss\n",
        "            epochs_no_improve = 0\n",
        "            best_model_state = model.state_dict()  # Sauvegarder le meilleur modèle\n",
        "        else:\n",
        "            epochs_no_improve += 1\n",
        "\n",
        "        if epochs_no_improve == early_stop_patience:\n",
        "            print(f\"Arrêt anticipé à l'époque {epoch+1}.\")\n",
        "            break\n",
        "\n",
        "    # Restaurer le meilleur modèle\n",
        "    if best_model_state is not None:\n",
        "        model.load_state_dict(best_model_state)\n",
        "        print(\"Meilleur modèle restauré.\")\n",
        "\n",
        "    return model\n",
        "\n",
        "# Prédictions\n",
        "def predict(model, dataloader, device):\n",
        "    model.eval()  # Mode d'évaluation\n",
        "\n",
        "    all_predictions = []\n",
        "    with torch.no_grad():\n",
        "        for batch in dataloader:  # Iterate directly over the batch\n",
        "            if isinstance(batch, (list, tuple)):  # Check if batch is a tuple (train/val)\n",
        "                inputs, _ = batch  # Unpack if it's a tuple\n",
        "                inputs = inputs.to(device)\n",
        "            else:  # If not, it's a single tensor (test)\n",
        "                inputs = batch.to(device)\n",
        "\n",
        "            outputs = model(inputs)\n",
        "            _, predicted = torch.max(outputs, 1)\n",
        "            all_predictions.extend(predicted.cpu().numpy())\n",
        "\n",
        "    return all_predictions"
      ],
      "metadata": {
        "id": "XJ4snw9XJr0Z",
        "colab": {
          "base_uri": "https://localhost:8080/"
        },
        "outputId": "d2ebe8fd-7972-48a6-cccb-ae7e29c83e71"
      },
      "execution_count": 28,
      "outputs": [
        {
          "output_type": "stream",
          "name": "stdout",
          "text": [
            "Utilisation de cuda\n"
          ]
        }
      ]
    },
    {
      "cell_type": "code",
      "source": [
        "# Entraînement\n",
        "best_model = train_model(\n",
        "    model, train_loader, val_loader, criterion, optimizer, scheduler, num_epochs=50, early_stop_patience=5\n",
        ")"
      ],
      "metadata": {
        "id": "3iXItiLQ5G4F",
        "colab": {
          "base_uri": "https://localhost:8080/"
        },
        "outputId": "008799b4-c6a2-4d89-d156-9418b1d1840d"
      },
      "execution_count": 29,
      "outputs": [
        {
          "output_type": "stream",
          "name": "stdout",
          "text": [
            "Epoch 1/50 | Train Loss: 0.8689, Train Accuracy: 62.53% | Validation Loss: 0.6602, Validation Accuracy: 82.46% | Learning Rate: 0.000976\n",
            "Epoch 2/50 | Train Loss: 0.6005, Train Accuracy: 79.28% | Validation Loss: 0.5065, Validation Accuracy: 84.57% | Learning Rate: 0.000905\n",
            "Epoch 3/50 | Train Loss: 0.5012, Train Accuracy: 82.76% | Validation Loss: 0.4561, Validation Accuracy: 86.44% | Learning Rate: 0.000794\n",
            "Epoch 4/50 | Train Loss: 0.4370, Train Accuracy: 85.15% | Validation Loss: 0.4379, Validation Accuracy: 87.86% | Learning Rate: 0.000655\n",
            "Epoch 5/50 | Train Loss: 0.3888, Train Accuracy: 86.85% | Validation Loss: 0.3891, Validation Accuracy: 88.94% | Learning Rate: 0.000500\n",
            "Epoch 6/50 | Train Loss: 0.3419, Train Accuracy: 88.44% | Validation Loss: 0.3897, Validation Accuracy: 89.19% | Learning Rate: 0.000345\n",
            "Epoch 7/50 | Train Loss: 0.2939, Train Accuracy: 90.07% | Validation Loss: 0.3764, Validation Accuracy: 89.53% | Learning Rate: 0.000206\n",
            "Epoch 8/50 | Train Loss: 0.2494, Train Accuracy: 91.68% | Validation Loss: 0.3888, Validation Accuracy: 89.13% | Learning Rate: 0.000095\n",
            "Epoch 9/50 | Train Loss: 0.2118, Train Accuracy: 92.82% | Validation Loss: 0.3948, Validation Accuracy: 89.48% | Learning Rate: 0.000024\n",
            "Epoch 10/50 | Train Loss: 0.1916, Train Accuracy: 93.54% | Validation Loss: 0.3897, Validation Accuracy: 89.14% | Learning Rate: 0.000000\n",
            "Epoch 11/50 | Train Loss: 0.1836, Train Accuracy: 93.71% | Validation Loss: 0.3926, Validation Accuracy: 89.41% | Learning Rate: 0.000024\n",
            "Epoch 12/50 | Train Loss: 0.1859, Train Accuracy: 93.60% | Validation Loss: 0.3977, Validation Accuracy: 89.21% | Learning Rate: 0.000095\n",
            "Arrêt anticipé à l'époque 12.\n",
            "Meilleur modèle restauré.\n"
          ]
        }
      ]
    },
    {
      "cell_type": "code",
      "source": [
        "from sklearn.metrics import confusion_matrix\n",
        "\n",
        "pred_val = predict(best_model, val_loader, device)\n",
        "\n",
        "# Calculer la matrice de confusion\n",
        "conf_matrix = confusion_matrix(y_val, pred_val)\n",
        "\n",
        "print(\"Matrice de confusion :\")\n",
        "print(conf_matrix)"
      ],
      "metadata": {
        "id": "zOd-q6MPZKsQ",
        "colab": {
          "base_uri": "https://localhost:8080/"
        },
        "outputId": "9d95b831-3073-402a-a287-568a1a61530c"
      },
      "execution_count": 30,
      "outputs": [
        {
          "output_type": "stream",
          "name": "stdout",
          "text": [
            "Matrice de confusion :\n",
            "[[6202   97  285   70]\n",
            " [  80 1758   35  172]\n",
            " [ 165   35  895  446]\n",
            " [  78  112  529 8536]]\n"
          ]
        }
      ]
    },
    {
      "cell_type": "code",
      "source": [
        "import seaborn as sns\n",
        "\n",
        "# Afficher la matrice de confusion sous forme de graphique\n",
        "plt.figure(figsize=(8, 6))\n",
        "sns.heatmap(conf_matrix, annot=True)\n",
        "plt.xlabel('Prédictions')\n",
        "plt.ylabel('vraies labels')\n",
        "plt.title('Matrice de Confusion')\n",
        "plt.show()\n"
      ],
      "metadata": {
        "id": "JftxTMsza_2R",
        "colab": {
          "base_uri": "https://localhost:8080/",
          "height": 564
        },
        "outputId": "9c251959-d04e-4361-fd89-397e5134ec9f"
      },
      "execution_count": 31,
      "outputs": [
        {
          "output_type": "display_data",
          "data": {
            "text/plain": [
              "<Figure size 800x600 with 2 Axes>"
            ],
            "image/png": "[encoded data removed]"
          },
          "metadata": {}
        }
      ]
    },
    {
      "cell_type": "code",
      "source": [
        "from torch.utils.data import ConcatDataset\n",
        "\n",
        "# Combiner les ensembles d'entraînement et de validation\n",
        "combined_dataset = ConcatDataset([train_dataset, val_dataset])\n",
        "\n",
        "# Créer un nouveau DataLoader pour l'ensemble combiné\n",
        "combined_loader = DataLoader(combined_dataset, batch_size=32, shuffle=True)\n",
        "\n",
        "# Entraîner le modèle final sur l'ensemble combiné (entrainement et validation)\n",
        "def train_final_model(model, combined_loader, criterion, optimizer, num_epochs=10):\n",
        "    model.train()  # Mode entraînement\n",
        "\n",
        "    for epoch in range(num_epochs):\n",
        "        running_loss = 0.0\n",
        "        correct = 0\n",
        "        total = 0\n",
        "\n",
        "        for inputs, labels in combined_loader:\n",
        "            inputs, labels = inputs.to(device), labels.to(device)\n",
        "\n",
        "            optimizer.zero_grad()\n",
        "            outputs = model(inputs)\n",
        "            loss = criterion(outputs, labels)\n",
        "            loss.backward()\n",
        "            optimizer.step()\n",
        "\n",
        "            running_loss += loss.item()\n",
        "            _, predicted = torch.max(outputs, 1)\n",
        "            total += labels.size(0)\n",
        "            correct += (predicted == labels).sum().item()\n",
        "\n",
        "        train_loss = running_loss / len(combined_loader)\n",
        "        train_accuracy = correct / total\n",
        "\n",
        "        # Afficher les résultats pour chaque époque\n",
        "        print(f\"Epoch {epoch+1}/{num_epochs} | \"\n",
        "              f\"Train Loss: {train_loss:.4f}, Train Accuracy: {train_accuracy * 100:.2f}%\")\n",
        "\n",
        "# Appeler la fonction pour entraîner le modèle final\n",
        "train_final_model(model, combined_loader, criterion, optimizer, num_epochs=10)"
      ],
      "metadata": {
        "id": "lQai0T1d-RJz",
        "colab": {
          "base_uri": "https://localhost:8080/"
        },
        "outputId": "c69c326b-c11b-4822-ab7c-322559949742"
      },
      "execution_count": 32,
      "outputs": [
        {
          "output_type": "stream",
          "name": "stdout",
          "text": [
            "Epoch 1/10 | Train Loss: 0.2204, Train Accuracy: 92.78%\n",
            "Epoch 2/10 | Train Loss: 0.2051, Train Accuracy: 93.26%\n",
            "Epoch 3/10 | Train Loss: 0.1964, Train Accuracy: 93.65%\n",
            "Epoch 4/10 | Train Loss: 0.1813, Train Accuracy: 93.98%\n",
            "Epoch 5/10 | Train Loss: 0.1699, Train Accuracy: 94.38%\n",
            "Epoch 6/10 | Train Loss: 0.1599, Train Accuracy: 94.65%\n",
            "Epoch 7/10 | Train Loss: 0.1488, Train Accuracy: 95.08%\n",
            "Epoch 8/10 | Train Loss: 0.1398, Train Accuracy: 95.29%\n",
            "Epoch 9/10 | Train Loss: 0.1329, Train Accuracy: 95.51%\n",
            "Epoch 10/10 | Train Loss: 0.1217, Train Accuracy: 95.87%\n"
          ]
        }
      ]
    },
    {
      "cell_type": "code",
      "source": [
        "# Créer un Dataset personnalisé pour X_test\n",
        "class TestDataset(Dataset):\n",
        "    def __init__(self, images):\n",
        "        self.images = torch.tensor(images, dtype=torch.float32).unsqueeze(1)  # Ajouter une dimension pour le canal\n",
        "\n",
        "    def __len__(self):\n",
        "        return len(self.images)\n",
        "\n",
        "    def __getitem__(self, idx):\n",
        "        return self.images[idx]\n",
        "\n",
        "# Charger X_test dans un DataLoader\n",
        "test_dataset = TestDataset(X_test)\n",
        "test_loader = DataLoader(test_dataset, batch_size=32, shuffle=False)\n",
        "\n",
        "# Faire des prédictions sur X_test\n",
        "predictions = predict(model, test_loader, device)"
      ],
      "metadata": {
        "id": "OWuks7VDAuvx"
      },
      "execution_count": 33,
      "outputs": []
    },
    {
      "cell_type": "code",
      "source": [
        "# Génération du fichier de soumission\n",
        "submission = np.column_stack((np.arange(1, len(predictions) + 1), predictions))\n",
        "np.savetxt('submission_final.csv', submission, fmt='%d', delimiter=',', header='ID,Class', comments='')\n",
        "print(\"Fichier de soumission généré : submission.csv\")"
      ],
      "metadata": {
        "id": "Eyn6NgOFB9Ks",
        "colab": {
          "base_uri": "https://localhost:8080/"
        },
        "outputId": "469d6386-4bf1-4e6a-a186-bea1f4cdc85f"
      },
      "execution_count": 34,
      "outputs": [
        {
          "output_type": "stream",
          "name": "stdout",
          "text": [
            "Fichier de soumission généré : submission.csv\n"
          ]
        }
      ]
    },
    {
      "cell_type": "code",
      "source": [
        "# Sauvegarder le modèle\n",
        "torch.save(model.state_dict(), \"cnn_model.pth\")\n",
        "print(\"Modèle sauvegardé sous cnn_model.pth\")"
      ],
      "metadata": {
        "colab": {
          "base_uri": "https://localhost:8080/"
        },
        "id": "46bG9NxkPQhE",
        "outputId": "5db03cc9-a78e-4909-e536-48b002166bbf"
      },
      "execution_count": 35,
      "outputs": [
        {
          "output_type": "stream",
          "name": "stdout",
          "text": [
            "Modèle sauvegardé sous cnn_model.pth\n"
          ]
        }
      ]
    },
    {
      "cell_type": "code",
      "source": [
        "from torchvision import transforms\n",
        "\n",
        "class ImageDataset(Dataset):\n",
        "    def __init__(self, images, labels, transform=None):\n",
        "        self.images = images\n",
        "        self.labels = labels\n",
        "        self.transform = transform\n",
        "\n",
        "    def __len__(self):\n",
        "        return len(self.images)\n",
        "\n",
        "    def __getitem__(self, idx):\n",
        "        image = self.images[idx]\n",
        "        label = self.labels[idx]\n",
        "\n",
        "        if self.transform:\n",
        "            image = self.transform(image)\n",
        "\n",
        "        # Convertir en 3 canaux si l'image est en niveaux de gris\n",
        "        # Correction : Appliquer la conversion avant la normalisation\n",
        "        if image.shape[0] == 1:\n",
        "            image = image.repeat(3, 1, 1)\n",
        "\n",
        "        return image, label\n",
        "\n",
        "# Transformation pour redimensionner les images\n",
        "transform = transforms.Compose([\n",
        "    transforms.ToPILImage(),\n",
        "    transforms.Resize((224, 224)),\n",
        "    transforms.ToTensor(),\n",
        "    # Correction : Utiliser la normalisation conditionnellement en fonction du nombre de canaux\n",
        "    transforms.Lambda(lambda x: transforms.Normalize(mean=[0.485, 0.456, 0.406], std=[0.229, 0.224, 0.225])(x) if x.shape[0] == 3 else transforms.Normalize(mean=[0.5], std=[0.5])(x))\n",
        "])\n",
        "\n",
        "# Création des datasets\n",
        "train_dataset = ImageDataset(X_train_augmented, y_train_augmented, transform=transform)\n",
        "val_dataset = ImageDataset(X_val, y_val, transform=transform)\n",
        "\n",
        "# Création des DataLoaders\n",
        "train_loader = DataLoader(train_dataset, batch_size=32, shuffle=True)\n",
        "val_loader = DataLoader(val_dataset, batch_size=32, shuffle=False)\n",
        "\n",
        "# Vérifiez les dimensions des images\n",
        "for images, labels in train_loader:\n",
        "    print(f\"Dimensions des images : {images.shape}\")  # Devrait afficher [batch_size, 3, 224, 224]\n",
        "    break"
      ],
      "metadata": {
        "id": "ld-y_-DSa1NH",
        "colab": {
          "base_uri": "https://localhost:8080/"
        },
        "outputId": "fdf5db40-d402-443f-e524-67a888c7ba67"
      },
      "execution_count": 36,
      "outputs": [
        {
          "output_type": "stream",
          "name": "stdout",
          "text": [
            "Dimensions des images : torch.Size([32, 3, 224, 224])\n"
          ]
        }
      ]
    },
    {
      "cell_type": "code",
      "source": [
        "from torchvision.models import efficientnet_b0, EfficientNet_B0_Weights\n",
        "import torch.nn as nn\n",
        "import torch.optim as optim\n",
        "from torch.optim.lr_scheduler import ReduceLROnPlateau\n",
        "\n",
        "# Vérifier si CUDA est disponible\n",
        "device = torch.device(\"cuda\" if torch.cuda.is_available() else \"cpu\")\n",
        "\n",
        "# Charger EfficientNet avec les poids pré-entraînés\n",
        "weights = EfficientNet_B0_Weights.DEFAULT\n",
        "model = efficientnet_b0(weights=weights)\n",
        "\n",
        "# Ajouter Dropout et adapter la tête pour 4 classes\n",
        "model.classifier = nn.Sequential(\n",
        "    nn.Dropout(0.3),  # Régularisation avec Dropout\n",
        "    nn.Linear(model.classifier[1].in_features, 4)  # Adapter pour 4 classes\n",
        ")\n",
        "\n",
        "# Dégelez plus de couches pour un fine-tuning plus profond\n",
        "for param in model.parameters():\n",
        "    param.requires_grad = False  # Geler toutes les couches\n",
        "\n",
        "for param in model.features[-10:].parameters():  # Dégeler les 10 dernières couches\n",
        "    param.requires_grad = True\n",
        "\n",
        "# Assurez-vous que les couches de Batch Normalization sont activées\n",
        "model.train()\n",
        "\n",
        "# Transférer le modèle sur GPU\n",
        "model.to(device)\n",
        "\n",
        "# Définir la fonction de perte et l'optimiseur\n",
        "criterion = nn.CrossEntropyLoss()\n",
        "optimizer = optim.Adam(model.parameters(), lr=0.001, weight_decay=1e-4)  # Régularisation L2\n",
        "\n",
        "# Scheduler pour ajuster le taux d'apprentissage\n",
        "scheduler = ReduceLROnPlateau(optimizer, mode='min', factor=0.1, patience=3, verbose=True)\n",
        "\n",
        "# Implémenter l'early stopping\n",
        "class EarlyStopping:\n",
        "    def __init__(self, patience=5, delta=0.01, path='best_model.pth'):\n",
        "        self.patience = patience\n",
        "        self.delta = delta\n",
        "        self.path = path\n",
        "        self.best_loss = float('inf')\n",
        "        self.counter = 0\n",
        "        self.early_stop = False\n",
        "\n",
        "    def __call__(self, val_loss, model):\n",
        "        if val_loss < self.best_loss - self.delta:\n",
        "            self.best_loss = val_loss\n",
        "            self.counter = 0\n",
        "            torch.save(model.state_dict(), self.path)  # Sauvegarder le modèle\n",
        "        else:\n",
        "            self.counter += 1\n",
        "            if self.counter >= self.patience:\n",
        "                self.early_stop = True\n",
        "\n",
        "# Initialiser l'early stopping\n",
        "early_stopping = EarlyStopping(patience=5, delta=0.01, path='best_model.pth')\n",
        "\n",
        "# Entraîner le modèle\n",
        "for epoch in range(20):  # Nombre d'époques\n",
        "    model.train()\n",
        "    running_loss = 0.0\n",
        "    correct_train = 0\n",
        "    total_train = 0\n",
        "\n",
        "    for inputs, labels in train_loader:\n",
        "        inputs, labels = inputs.to(device), labels.to(device)\n",
        "\n",
        "        optimizer.zero_grad()\n",
        "        outputs = model(inputs)\n",
        "        loss = criterion(outputs, labels)\n",
        "        loss.backward()\n",
        "        optimizer.step()\n",
        "\n",
        "        running_loss += loss.item()\n",
        "        _, preds = torch.max(outputs, 1)\n",
        "        correct_train += torch.sum(preds == labels).item()\n",
        "        total_train += labels.size(0)\n",
        "\n",
        "    train_accuracy = correct_train / total_train\n",
        "    train_loss = running_loss / len(train_loader)\n",
        "\n",
        "    # Validation\n",
        "    model.eval()\n",
        "    val_loss = 0.0\n",
        "    correct_val = 0\n",
        "    total_val = 0\n",
        "\n",
        "    with torch.no_grad():\n",
        "        for inputs, labels in val_loader:\n",
        "            inputs, labels = inputs.to(device), labels.to(device)\n",
        "            outputs = model(inputs)\n",
        "            loss = criterion(outputs, labels)\n",
        "            val_loss += loss.item()\n",
        "            _, preds = torch.max(outputs, 1)\n",
        "            correct_val += torch.sum(preds == labels).item()\n",
        "            total_val += labels.size(0)\n",
        "\n",
        "    val_accuracy = correct_val / total_val\n",
        "    val_loss /= len(val_loader)\n",
        "\n",
        "    # Mettre à jour le scheduler\n",
        "    scheduler.step(val_loss)\n",
        "\n",
        "    # Vérifier l'early stopping\n",
        "    early_stopping(val_loss, model)\n",
        "    if early_stopping.early_stop:\n",
        "        print(\"Arrêt anticipé déclenché\")\n",
        "        break\n",
        "\n",
        "    print(f\"Époque {epoch + 1}, \"\n",
        "          f\"Train Loss : {train_loss:.4f}, Train Accuracy : {train_accuracy:.4f}, \"\n",
        "          f\"Val Loss : {val_loss:.4f}, Val Accuracy : {val_accuracy:.4f}\")\n",
        "\n",
        "# Charger le meilleur modèle après l'arrêt\n",
        "model.load_state_dict(torch.load('best_model.pth'))\n",
        "print(\"Modèle chargé avec les meilleurs poids.\")"
      ],
      "metadata": {
        "colab": {
          "base_uri": "https://localhost:8080/",
          "height": 411
        },
        "id": "kyWJlr8biwoa",
        "outputId": "43e6c9cd-a986-4551-9c89-4631c47943bd"
      },
      "execution_count": 37,
      "outputs": [
        {
          "output_type": "stream",
          "name": "stderr",
          "text": [
            "/usr/local/lib/python3.10/dist-packages/torch/optim/lr_scheduler.py:62: UserWarning: The verbose parameter is deprecated. Please use get_last_lr() to access the learning rate.\n",
            "  warnings.warn(\n"
          ]
        },
        {
          "output_type": "error",
          "ename": "KeyboardInterrupt",
          "evalue": "",
          "traceback": [
            "\u001b[0;31m---------------------------------------------------------------------------\u001b[0m",
            "\u001b[0;31mKeyboardInterrupt\u001b[0m                         Traceback (most recent call last)",
            "\u001b[0;32m<ipython-input-37-433e4fb54b08>\u001b[0m in \u001b[0;36m<cell line: 63>\u001b[0;34m()\u001b[0m\n\u001b[1;32m     73\u001b[0m         \u001b[0moutputs\u001b[0m \u001b[0;34m=\u001b[0m \u001b[0mmodel\u001b[0m\u001b[0;34m(\u001b[0m\u001b[0minputs\u001b[0m\u001b[0;34m)\u001b[0m\u001b[0;34m\u001b[0m\u001b[0;34m\u001b[0m\u001b[0m\n\u001b[1;32m     74\u001b[0m         \u001b[0mloss\u001b[0m \u001b[0;34m=\u001b[0m \u001b[0mcriterion\u001b[0m\u001b[0;34m(\u001b[0m\u001b[0moutputs\u001b[0m\u001b[0;34m,\u001b[0m \u001b[0mlabels\u001b[0m\u001b[0;34m)\u001b[0m\u001b[0;34m\u001b[0m\u001b[0;34m\u001b[0m\u001b[0m\n\u001b[0;32m---> 75\u001b[0;31m         \u001b[0mloss\u001b[0m\u001b[0;34m.\u001b[0m\u001b[0mbackward\u001b[0m\u001b[0;34m(\u001b[0m\u001b[0;34m)\u001b[0m\u001b[0;34m\u001b[0m\u001b[0;34m\u001b[0m\u001b[0m\n\u001b[0m\u001b[1;32m     76\u001b[0m         \u001b[0moptimizer\u001b[0m\u001b[0;34m.\u001b[0m\u001b[0mstep\u001b[0m\u001b[0;34m(\u001b[0m\u001b[0;34m)\u001b[0m\u001b[0;34m\u001b[0m\u001b[0;34m\u001b[0m\u001b[0m\n\u001b[1;32m     77\u001b[0m \u001b[0;34m\u001b[0m\u001b[0m\n",
            "\u001b[0;32m/usr/local/lib/python3.10/dist-packages/torch/_tensor.py\u001b[0m in \u001b[0;36mbackward\u001b[0;34m(self, gradient, retain_graph, create_graph, inputs)\u001b[0m\n\u001b[1;32m    579\u001b[0m                 \u001b[0minputs\u001b[0m\u001b[0;34m=\u001b[0m\u001b[0minputs\u001b[0m\u001b[0;34m,\u001b[0m\u001b[0;34m\u001b[0m\u001b[0;34m\u001b[0m\u001b[0m\n\u001b[1;32m    580\u001b[0m             )\n\u001b[0;32m--> 581\u001b[0;31m         torch.autograd.backward(\n\u001b[0m\u001b[1;32m    582\u001b[0m             \u001b[0mself\u001b[0m\u001b[0;34m,\u001b[0m \u001b[0mgradient\u001b[0m\u001b[0;34m,\u001b[0m \u001b[0mretain_graph\u001b[0m\u001b[0;34m,\u001b[0m \u001b[0mcreate_graph\u001b[0m\u001b[0;34m,\u001b[0m \u001b[0minputs\u001b[0m\u001b[0;34m=\u001b[0m\u001b[0minputs\u001b[0m\u001b[0;34m\u001b[0m\u001b[0;34m\u001b[0m\u001b[0m\n\u001b[1;32m    583\u001b[0m         )\n",
            "\u001b[0;32m/usr/local/lib/python3.10/dist-packages/torch/autograd/__init__.py\u001b[0m in \u001b[0;36mbackward\u001b[0;34m(tensors, grad_tensors, retain_graph, create_graph, grad_variables, inputs)\u001b[0m\n\u001b[1;32m    345\u001b[0m     \u001b[0;31m# some Python versions print out the first line of a multi-line function\u001b[0m\u001b[0;34m\u001b[0m\u001b[0;34m\u001b[0m\u001b[0m\n\u001b[1;32m    346\u001b[0m     \u001b[0;31m# calls in the traceback and some print out the last line\u001b[0m\u001b[0;34m\u001b[0m\u001b[0;34m\u001b[0m\u001b[0m\n\u001b[0;32m--> 347\u001b[0;31m     _engine_run_backward(\n\u001b[0m\u001b[1;32m    348\u001b[0m         \u001b[0mtensors\u001b[0m\u001b[0;34m,\u001b[0m\u001b[0;34m\u001b[0m\u001b[0;34m\u001b[0m\u001b[0m\n\u001b[1;32m    349\u001b[0m         \u001b[0mgrad_tensors_\u001b[0m\u001b[0;34m,\u001b[0m\u001b[0;34m\u001b[0m\u001b[0;34m\u001b[0m\u001b[0m\n",
            "\u001b[0;32m/usr/local/lib/python3.10/dist-packages/torch/autograd/graph.py\u001b[0m in \u001b[0;36m_engine_run_backward\u001b[0;34m(t_outputs, *args, **kwargs)\u001b[0m\n\u001b[1;32m    823\u001b[0m         \u001b[0munregister_hooks\u001b[0m \u001b[0;34m=\u001b[0m \u001b[0m_register_logging_hooks_on_whole_graph\u001b[0m\u001b[0;34m(\u001b[0m\u001b[0mt_outputs\u001b[0m\u001b[0;34m)\u001b[0m\u001b[0;34m\u001b[0m\u001b[0;34m\u001b[0m\u001b[0m\n\u001b[1;32m    824\u001b[0m     \u001b[0;32mtry\u001b[0m\u001b[0;34m:\u001b[0m\u001b[0;34m\u001b[0m\u001b[0;34m\u001b[0m\u001b[0m\n\u001b[0;32m--> 825\u001b[0;31m         return Variable._execution_engine.run_backward(  # Calls into the C++ engine to run the backward pass\n\u001b[0m\u001b[1;32m    826\u001b[0m             \u001b[0mt_outputs\u001b[0m\u001b[0;34m,\u001b[0m \u001b[0;34m*\u001b[0m\u001b[0margs\u001b[0m\u001b[0;34m,\u001b[0m \u001b[0;34m**\u001b[0m\u001b[0mkwargs\u001b[0m\u001b[0;34m\u001b[0m\u001b[0;34m\u001b[0m\u001b[0m\n\u001b[1;32m    827\u001b[0m         )  # Calls into the C++ engine to run the backward pass\n",
            "\u001b[0;31mKeyboardInterrupt\u001b[0m: "
          ]
        }
      ]
    },
    {
      "cell_type": "code",
      "source": [],
      "metadata": {
        "id": "pRzvYtNrp_9V"
      },
      "execution_count": null,
      "outputs": []
    }
  ]
}